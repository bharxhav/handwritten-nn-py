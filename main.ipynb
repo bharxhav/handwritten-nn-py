{
 "cells": [
  {
   "cell_type": "markdown",
   "id": "b665e2e5",
   "metadata": {},
   "source": [
    "# Handwritten Digits Classification using Neural Network\n",
    "\n",
    "Using only Python and Numpy."
   ]
  },
  {
   "cell_type": "code",
   "execution_count": 1,
   "id": "108a52d7",
   "metadata": {
    "_cell_guid": "b1076dfc-b9ad-4769-8c92-a6c4dae69d19",
    "_uuid": "8f2839f25d086af736a60e9eeb907d3b93b6e0e5",
    "execution": {
     "iopub.execute_input": "2022-05-15T13:39:48.712973Z",
     "iopub.status.busy": "2022-05-15T13:39:48.712624Z",
     "iopub.status.idle": "2022-05-15T13:39:48.725899Z",
     "shell.execute_reply": "2022-05-15T13:39:48.724895Z"
    },
    "papermill": {
     "duration": 0.041786,
     "end_time": "2022-05-15T13:39:48.728029",
     "exception": false,
     "start_time": "2022-05-15T13:39:48.686243",
     "status": "completed"
    },
    "tags": []
   },
   "outputs": [],
   "source": [
    "import numpy as np\n",
    "import pandas as pd"
   ]
  },
  {
   "cell_type": "code",
   "execution_count": 2,
   "id": "f4ef340c",
   "metadata": {
    "execution": {
     "iopub.execute_input": "2022-05-15T13:39:48.777799Z",
     "iopub.status.busy": "2022-05-15T13:39:48.777259Z",
     "iopub.status.idle": "2022-05-15T13:39:52.453108Z",
     "shell.execute_reply": "2022-05-15T13:39:52.452039Z"
    },
    "papermill": {
     "duration": 3.70364,
     "end_time": "2022-05-15T13:39:52.456012",
     "exception": false,
     "start_time": "2022-05-15T13:39:48.752372",
     "status": "completed"
    },
    "tags": []
   },
   "outputs": [
    {
     "data": {
      "text/html": [
       "<div>\n",
       "<style scoped>\n",
       "    .dataframe tbody tr th:only-of-type {\n",
       "        vertical-align: middle;\n",
       "    }\n",
       "\n",
       "    .dataframe tbody tr th {\n",
       "        vertical-align: top;\n",
       "    }\n",
       "\n",
       "    .dataframe thead th {\n",
       "        text-align: right;\n",
       "    }\n",
       "</style>\n",
       "<table border=\"1\" class=\"dataframe\">\n",
       "  <thead>\n",
       "    <tr style=\"text-align: right;\">\n",
       "      <th></th>\n",
       "      <th>label</th>\n",
       "      <th>pixel0</th>\n",
       "      <th>pixel1</th>\n",
       "      <th>pixel2</th>\n",
       "      <th>pixel3</th>\n",
       "      <th>pixel4</th>\n",
       "      <th>pixel5</th>\n",
       "      <th>pixel6</th>\n",
       "      <th>pixel7</th>\n",
       "      <th>pixel8</th>\n",
       "      <th>...</th>\n",
       "      <th>pixel774</th>\n",
       "      <th>pixel775</th>\n",
       "      <th>pixel776</th>\n",
       "      <th>pixel777</th>\n",
       "      <th>pixel778</th>\n",
       "      <th>pixel779</th>\n",
       "      <th>pixel780</th>\n",
       "      <th>pixel781</th>\n",
       "      <th>pixel782</th>\n",
       "      <th>pixel783</th>\n",
       "    </tr>\n",
       "  </thead>\n",
       "  <tbody>\n",
       "    <tr>\n",
       "      <th>0</th>\n",
       "      <td>1</td>\n",
       "      <td>0</td>\n",
       "      <td>0</td>\n",
       "      <td>0</td>\n",
       "      <td>0</td>\n",
       "      <td>0</td>\n",
       "      <td>0</td>\n",
       "      <td>0</td>\n",
       "      <td>0</td>\n",
       "      <td>0</td>\n",
       "      <td>...</td>\n",
       "      <td>0</td>\n",
       "      <td>0</td>\n",
       "      <td>0</td>\n",
       "      <td>0</td>\n",
       "      <td>0</td>\n",
       "      <td>0</td>\n",
       "      <td>0</td>\n",
       "      <td>0</td>\n",
       "      <td>0</td>\n",
       "      <td>0</td>\n",
       "    </tr>\n",
       "    <tr>\n",
       "      <th>1</th>\n",
       "      <td>0</td>\n",
       "      <td>0</td>\n",
       "      <td>0</td>\n",
       "      <td>0</td>\n",
       "      <td>0</td>\n",
       "      <td>0</td>\n",
       "      <td>0</td>\n",
       "      <td>0</td>\n",
       "      <td>0</td>\n",
       "      <td>0</td>\n",
       "      <td>...</td>\n",
       "      <td>0</td>\n",
       "      <td>0</td>\n",
       "      <td>0</td>\n",
       "      <td>0</td>\n",
       "      <td>0</td>\n",
       "      <td>0</td>\n",
       "      <td>0</td>\n",
       "      <td>0</td>\n",
       "      <td>0</td>\n",
       "      <td>0</td>\n",
       "    </tr>\n",
       "    <tr>\n",
       "      <th>2</th>\n",
       "      <td>1</td>\n",
       "      <td>0</td>\n",
       "      <td>0</td>\n",
       "      <td>0</td>\n",
       "      <td>0</td>\n",
       "      <td>0</td>\n",
       "      <td>0</td>\n",
       "      <td>0</td>\n",
       "      <td>0</td>\n",
       "      <td>0</td>\n",
       "      <td>...</td>\n",
       "      <td>0</td>\n",
       "      <td>0</td>\n",
       "      <td>0</td>\n",
       "      <td>0</td>\n",
       "      <td>0</td>\n",
       "      <td>0</td>\n",
       "      <td>0</td>\n",
       "      <td>0</td>\n",
       "      <td>0</td>\n",
       "      <td>0</td>\n",
       "    </tr>\n",
       "    <tr>\n",
       "      <th>3</th>\n",
       "      <td>4</td>\n",
       "      <td>0</td>\n",
       "      <td>0</td>\n",
       "      <td>0</td>\n",
       "      <td>0</td>\n",
       "      <td>0</td>\n",
       "      <td>0</td>\n",
       "      <td>0</td>\n",
       "      <td>0</td>\n",
       "      <td>0</td>\n",
       "      <td>...</td>\n",
       "      <td>0</td>\n",
       "      <td>0</td>\n",
       "      <td>0</td>\n",
       "      <td>0</td>\n",
       "      <td>0</td>\n",
       "      <td>0</td>\n",
       "      <td>0</td>\n",
       "      <td>0</td>\n",
       "      <td>0</td>\n",
       "      <td>0</td>\n",
       "    </tr>\n",
       "    <tr>\n",
       "      <th>4</th>\n",
       "      <td>0</td>\n",
       "      <td>0</td>\n",
       "      <td>0</td>\n",
       "      <td>0</td>\n",
       "      <td>0</td>\n",
       "      <td>0</td>\n",
       "      <td>0</td>\n",
       "      <td>0</td>\n",
       "      <td>0</td>\n",
       "      <td>0</td>\n",
       "      <td>...</td>\n",
       "      <td>0</td>\n",
       "      <td>0</td>\n",
       "      <td>0</td>\n",
       "      <td>0</td>\n",
       "      <td>0</td>\n",
       "      <td>0</td>\n",
       "      <td>0</td>\n",
       "      <td>0</td>\n",
       "      <td>0</td>\n",
       "      <td>0</td>\n",
       "    </tr>\n",
       "  </tbody>\n",
       "</table>\n",
       "<p>5 rows × 785 columns</p>\n",
       "</div>"
      ],
      "text/plain": [
       "   label  pixel0  pixel1  pixel2  pixel3  pixel4  pixel5  pixel6  pixel7  \\\n",
       "0      1       0       0       0       0       0       0       0       0   \n",
       "1      0       0       0       0       0       0       0       0       0   \n",
       "2      1       0       0       0       0       0       0       0       0   \n",
       "3      4       0       0       0       0       0       0       0       0   \n",
       "4      0       0       0       0       0       0       0       0       0   \n",
       "\n",
       "   pixel8  ...  pixel774  pixel775  pixel776  pixel777  pixel778  pixel779  \\\n",
       "0       0  ...         0         0         0         0         0         0   \n",
       "1       0  ...         0         0         0         0         0         0   \n",
       "2       0  ...         0         0         0         0         0         0   \n",
       "3       0  ...         0         0         0         0         0         0   \n",
       "4       0  ...         0         0         0         0         0         0   \n",
       "\n",
       "   pixel780  pixel781  pixel782  pixel783  \n",
       "0         0         0         0         0  \n",
       "1         0         0         0         0  \n",
       "2         0         0         0         0  \n",
       "3         0         0         0         0  \n",
       "4         0         0         0         0  \n",
       "\n",
       "[5 rows x 785 columns]"
      ]
     },
     "execution_count": 2,
     "metadata": {},
     "output_type": "execute_result"
    }
   ],
   "source": [
    "train = pd.read_csv('dataset/train.csv')\n",
    "train.head()"
   ]
  },
  {
   "cell_type": "code",
   "execution_count": 3,
   "id": "9b496534",
   "metadata": {
    "execution": {
     "iopub.execute_input": "2022-05-15T13:39:52.506767Z",
     "iopub.status.busy": "2022-05-15T13:39:52.506487Z",
     "iopub.status.idle": "2022-05-15T13:39:52.987211Z",
     "shell.execute_reply": "2022-05-15T13:39:52.986230Z"
    },
    "papermill": {
     "duration": 0.508593,
     "end_time": "2022-05-15T13:39:52.989631",
     "exception": false,
     "start_time": "2022-05-15T13:39:52.481038",
     "status": "completed"
    },
    "tags": []
   },
   "outputs": [
    {
     "data": {
      "text/plain": [
       "(42000, 785)"
      ]
     },
     "execution_count": 3,
     "metadata": {},
     "output_type": "execute_result"
    }
   ],
   "source": [
    "train = np.array(train, dtype=np.float64)\n",
    "train.shape"
   ]
  },
  {
   "cell_type": "code",
   "execution_count": 4,
   "id": "da8676f4",
   "metadata": {
    "execution": {
     "iopub.execute_input": "2022-05-15T13:39:53.044664Z",
     "iopub.status.busy": "2022-05-15T13:39:53.043985Z",
     "iopub.status.idle": "2022-05-15T13:39:53.049846Z",
     "shell.execute_reply": "2022-05-15T13:39:53.048814Z"
    },
    "papermill": {
     "duration": 0.034942,
     "end_time": "2022-05-15T13:39:53.052133",
     "exception": false,
     "start_time": "2022-05-15T13:39:53.017191",
     "status": "completed"
    },
    "tags": []
   },
   "outputs": [
    {
     "name": "stdout",
     "output_type": "stream",
     "text": [
      "(784, 42000) (42000,)\n"
     ]
    }
   ],
   "source": [
    "train = train.T\n",
    "Y = train[0]\n",
    "X = train[1:]\n",
    "\n",
    "print(X.shape, Y.shape)"
   ]
  },
  {
   "cell_type": "code",
   "execution_count": 5,
   "id": "4cb8062b",
   "metadata": {
    "execution": {
     "iopub.execute_input": "2022-05-15T13:39:53.103540Z",
     "iopub.status.busy": "2022-05-15T13:39:53.103236Z",
     "iopub.status.idle": "2022-05-15T13:39:53.109045Z",
     "shell.execute_reply": "2022-05-15T13:39:53.108170Z"
    },
    "papermill": {
     "duration": 0.03437,
     "end_time": "2022-05-15T13:39:53.111301",
     "exception": false,
     "start_time": "2022-05-15T13:39:53.076931",
     "status": "completed"
    },
    "tags": []
   },
   "outputs": [
    {
     "data": {
      "text/plain": [
       "(42000,)"
      ]
     },
     "execution_count": 5,
     "metadata": {},
     "output_type": "execute_result"
    }
   ],
   "source": [
    "Y.reshape(Y.shape[0], 1)\n",
    "Y.shape"
   ]
  },
  {
   "cell_type": "code",
   "execution_count": 6,
   "id": "00a1728b",
   "metadata": {
    "execution": {
     "iopub.execute_input": "2022-05-15T13:39:53.165815Z",
     "iopub.status.busy": "2022-05-15T13:39:53.164892Z",
     "iopub.status.idle": "2022-05-15T13:39:53.172953Z",
     "shell.execute_reply": "2022-05-15T13:39:53.171961Z"
    },
    "papermill": {
     "duration": 0.038904,
     "end_time": "2022-05-15T13:39:53.175094",
     "exception": false,
     "start_time": "2022-05-15T13:39:53.136190",
     "status": "completed"
    },
    "tags": []
   },
   "outputs": [],
   "source": [
    "nx, m = X.shape\n",
    "\n",
    "def initialisation():\n",
    "    # First hidden layer has 16 neurons\n",
    "    W1 = np.float64(np.random.rand(16, nx))\n",
    "    b1 = np.float64(np.random.rand(16, 1))\n",
    "    \n",
    "    # Second Hidden layer has 16 neurons\n",
    "    W2 = np.float64(np.random.rand(16, 16))\n",
    "    b2 = np.float64(np.random.rand(16, 1))\n",
    "    \n",
    "    # Output layer has 10 neurons\n",
    "    W3 = np.float64(np.random.rand(10, 16))\n",
    "    b3 = np.float64(np.random.rand(10, 1))\n",
    "    \n",
    "    return W1, b1, W2, b2, W3, b3"
   ]
  },
  {
   "cell_type": "code",
   "execution_count": 7,
   "id": "29b69ff5",
   "metadata": {
    "execution": {
     "iopub.execute_input": "2022-05-15T13:39:53.227959Z",
     "iopub.status.busy": "2022-05-15T13:39:53.227484Z",
     "iopub.status.idle": "2022-05-15T13:39:53.232036Z",
     "shell.execute_reply": "2022-05-15T13:39:53.231340Z"
    },
    "papermill": {
     "duration": 0.033659,
     "end_time": "2022-05-15T13:39:53.234138",
     "exception": false,
     "start_time": "2022-05-15T13:39:53.200479",
     "status": "completed"
    },
    "tags": []
   },
   "outputs": [],
   "source": [
    "def sigmoid(Z):\n",
    "    return 1 / (1 + np.exp(-Z))\n",
    "\n",
    "def sigmoid_derivative(Z):\n",
    "    s = sigmoid(Z)\n",
    "    return s * (1 - s)"
   ]
  },
  {
   "cell_type": "code",
   "execution_count": 8,
   "id": "ec50c181",
   "metadata": {
    "execution": {
     "iopub.execute_input": "2022-05-15T13:39:53.286323Z",
     "iopub.status.busy": "2022-05-15T13:39:53.285879Z",
     "iopub.status.idle": "2022-05-15T13:39:53.293008Z",
     "shell.execute_reply": "2022-05-15T13:39:53.292018Z"
    },
    "papermill": {
     "duration": 0.035515,
     "end_time": "2022-05-15T13:39:53.294899",
     "exception": false,
     "start_time": "2022-05-15T13:39:53.259384",
     "status": "completed"
    },
    "tags": []
   },
   "outputs": [
    {
     "name": "stdout",
     "output_type": "stream",
     "text": [
      "9.0 0.0\n"
     ]
    },
    {
     "data": {
      "text/plain": [
       "array([1., 0., 1., 4., 0., 0., 7., 3., 5., 3., 8., 9., 1., 3., 3., 1., 2.,\n",
       "       0., 7., 5.])"
      ]
     },
     "execution_count": 8,
     "metadata": {},
     "output_type": "execute_result"
    }
   ],
   "source": [
    "print(Y.max(), Y.min())\n",
    "Y[:20]"
   ]
  },
  {
   "cell_type": "code",
   "execution_count": 9,
   "id": "9c5b93ad",
   "metadata": {
    "execution": {
     "iopub.execute_input": "2022-05-15T13:39:53.352099Z",
     "iopub.status.busy": "2022-05-15T13:39:53.351528Z",
     "iopub.status.idle": "2022-05-15T13:39:53.357586Z",
     "shell.execute_reply": "2022-05-15T13:39:53.356816Z"
    },
    "papermill": {
     "duration": 0.03704,
     "end_time": "2022-05-15T13:39:53.359701",
     "exception": false,
     "start_time": "2022-05-15T13:39:53.322661",
     "status": "completed"
    },
    "tags": []
   },
   "outputs": [],
   "source": [
    "def mean_square_loss(predictions, Y):\n",
    "    for i in range(len(Y)):\n",
    "        predictions[int(Y[i]), i] -= 1\n",
    "    \n",
    "    predictions = predictions * predictions\n",
    "    \n",
    "    return 0.5 * predictions\n",
    "\n",
    "def mean_square_derivative(predictions, Y):\n",
    "    for i in range(len(Y)):\n",
    "        predictions[int(Y[i]), i] = 1 - predictions[int(Y[i]), i]\n",
    "    \n",
    "    return predictions"
   ]
  },
  {
   "cell_type": "code",
   "execution_count": 10,
   "id": "b1bac77d",
   "metadata": {
    "execution": {
     "iopub.execute_input": "2022-05-15T13:39:53.414759Z",
     "iopub.status.busy": "2022-05-15T13:39:53.414201Z",
     "iopub.status.idle": "2022-05-15T13:39:53.423724Z",
     "shell.execute_reply": "2022-05-15T13:39:53.422892Z"
    },
    "papermill": {
     "duration": 0.039405,
     "end_time": "2022-05-15T13:39:53.425992",
     "exception": false,
     "start_time": "2022-05-15T13:39:53.386587",
     "status": "completed"
    },
    "tags": []
   },
   "outputs": [],
   "source": [
    "def propagation(A0, W1, b1, W2, b2, W3, b3, Y):\n",
    "    ## FORWARD PROPAGATION\n",
    "    # Initial to First\n",
    "    Z1 = np.dot(W1, A0) + b1\n",
    "    A1 = sigmoid(Z1)\n",
    "    \n",
    "    # First to Second\n",
    "    Z2 = np.dot(W2, A1) + b2\n",
    "    A2 = sigmoid(Z2)\n",
    "    \n",
    "    # Second to Final\n",
    "    Z3 = np.dot(W3, A2) + b3\n",
    "    A3 = sigmoid(Z3)\n",
    "    \n",
    "    ## BACKWARD PROPAGATION\n",
    "    # Final to Second\n",
    "    dZ3 = mean_square_derivative(A3, Y) * sigmoid_derivative(Z3)\n",
    "    dW3 = np.dot(dZ3, A2.T)\n",
    "    db3 = np.sum(dZ3, axis=1).reshape(10, 1)\n",
    "    \n",
    "    # Second to First\n",
    "    dZ2 = np.dot(W3.T, dZ3) * sigmoid_derivative(Z2)\n",
    "    dW2 = np.dot(dZ2, A1.T)\n",
    "    db2 = np.sum(dZ2, axis=1).reshape(16, 1)\n",
    "    \n",
    "    # First to Initial\n",
    "    dZ1 = np.dot(W2.T, dZ2) * sigmoid_derivative(Z1)\n",
    "    dW1 = np.dot(dZ1, A0.T)\n",
    "    db1 = np.sum(dZ1, axis=1).reshape(16, 1)\n",
    "    \n",
    "    return A3, dW1, db1, dW2, db2, dW3, db3"
   ]
  },
  {
   "cell_type": "code",
   "execution_count": 11,
   "id": "29540051",
   "metadata": {
    "execution": {
     "iopub.execute_input": "2022-05-15T13:39:53.481089Z",
     "iopub.status.busy": "2022-05-15T13:39:53.480509Z",
     "iopub.status.idle": "2022-05-15T13:39:53.486812Z",
     "shell.execute_reply": "2022-05-15T13:39:53.485588Z"
    },
    "papermill": {
     "duration": 0.036336,
     "end_time": "2022-05-15T13:39:53.489491",
     "exception": false,
     "start_time": "2022-05-15T13:39:53.453155",
     "status": "completed"
    },
    "tags": []
   },
   "outputs": [],
   "source": [
    "def correction(W1, dW1, b1, db1, W2, dW2, b2, db2, W3, dW3, b3, db3, alpha):\n",
    "    W1 = W1 - (alpha * dW1)\n",
    "    b1 = b1 - (alpha * db1)\n",
    "    \n",
    "    W2 = W2 - (alpha * dW2)\n",
    "    b2 = b2 - (alpha * db2)\n",
    "    \n",
    "    W3 = W3 - (alpha * dW3)\n",
    "    b3 = b3 - (alpha * db3)\n",
    "    \n",
    "    return W1, b1, W2, b2, W3, b3"
   ]
  },
  {
   "cell_type": "code",
   "execution_count": 12,
   "id": "b58e9353",
   "metadata": {
    "execution": {
     "iopub.execute_input": "2022-05-15T13:39:53.544046Z",
     "iopub.status.busy": "2022-05-15T13:39:53.543633Z",
     "iopub.status.idle": "2022-05-15T13:39:53.548242Z",
     "shell.execute_reply": "2022-05-15T13:39:53.547638Z"
    },
    "papermill": {
     "duration": 0.034291,
     "end_time": "2022-05-15T13:39:53.550148",
     "exception": false,
     "start_time": "2022-05-15T13:39:53.515857",
     "status": "completed"
    },
    "tags": []
   },
   "outputs": [],
   "source": [
    "def accuracy(prediction, Y):\n",
    "    prediction = np.argmax(prediction, axis=0)\n",
    "    \n",
    "    return (np.sum(prediction == Y) / Y.size)"
   ]
  },
  {
   "cell_type": "code",
   "execution_count": 13,
   "id": "617761a1",
   "metadata": {
    "execution": {
     "iopub.execute_input": "2022-05-15T13:39:53.606389Z",
     "iopub.status.busy": "2022-05-15T13:39:53.605903Z",
     "iopub.status.idle": "2022-05-15T13:39:53.613787Z",
     "shell.execute_reply": "2022-05-15T13:39:53.612922Z"
    },
    "papermill": {
     "duration": 0.039805,
     "end_time": "2022-05-15T13:39:53.616029",
     "exception": false,
     "start_time": "2022-05-15T13:39:53.576224",
     "status": "completed"
    },
    "tags": []
   },
   "outputs": [],
   "source": [
    "def gradient_descent(X, Y, alpha, iterations):\n",
    "    W1, b1, W2, b2, W3, b3 = initialisation()\n",
    "    \n",
    "    for iteration in range(iterations + 1):\n",
    "        A3, dW1, db1, dW2, db2, dW3, db3 = propagation(X, W1, b1, W2, b2, W3, b3, Y)\n",
    "        W1, b1, W2, b2, W3, b3 = correction(W1, dW1, b1, db1, W2, dW2, b2, db2, W3, dW3, b3, db3, alpha)\n",
    "        \n",
    "        \n",
    "        print(f\"Iteration {iteration}: {accuracy(A3, Y)}\")\n",
    "    \n",
    "    return W1, b1, W2, b2, W3, b3, A3"
   ]
  },
  {
   "cell_type": "code",
   "execution_count": 14,
   "id": "e26572ed",
   "metadata": {
    "execution": {
     "iopub.execute_input": "2022-05-15T13:39:53.676122Z",
     "iopub.status.busy": "2022-05-15T13:39:53.675690Z",
     "iopub.status.idle": "2022-05-15T13:41:03.044649Z",
     "shell.execute_reply": "2022-05-15T13:41:03.043454Z"
    },
    "papermill": {
     "duration": 69.403161,
     "end_time": "2022-05-15T13:41:03.047539",
     "exception": false,
     "start_time": "2022-05-15T13:39:53.644378",
     "status": "completed"
    },
    "tags": []
   },
   "outputs": [
    {
     "name": "stdout",
     "output_type": "stream",
     "text": [
      "Iteration 0: 0.0\n",
      "Iteration 1: 0.09945238095238096\n",
      "Iteration 2: 0.18980952380952382\n",
      "Iteration 3: 0.4916190476190476\n",
      "Iteration 4: 0.8046666666666666\n",
      "Iteration 5: 1.0\n"
     ]
    },
    {
     "name": "stderr",
     "output_type": "stream",
     "text": [
      "C:\\Users\\bharg\\AppData\\Local\\Temp\\ipykernel_20596\\4177611724.py:2: RuntimeWarning: overflow encountered in exp\n",
      "  return 1 / (1 + np.exp(-Z))\n"
     ]
    },
    {
     "name": "stdout",
     "output_type": "stream",
     "text": [
      "Iteration 6: 1.0\n",
      "Iteration 7: 1.0\n",
      "Iteration 8: 1.0\n",
      "Iteration 9: 1.0\n",
      "Iteration 10: 1.0\n",
      "Iteration 11: 1.0\n",
      "Iteration 12: 1.0\n",
      "Iteration 13: 1.0\n",
      "Iteration 14: 1.0\n",
      "Iteration 15: 1.0\n"
     ]
    }
   ],
   "source": [
    "W1, b1, W2, b2, W3, b3, A3 = gradient_descent(X, Y, 0.01, 15)"
   ]
  },
  {
   "cell_type": "code",
   "execution_count": 15,
   "id": "85dd1b8f",
   "metadata": {
    "execution": {
     "iopub.execute_input": "2022-05-15T13:41:03.113027Z",
     "iopub.status.busy": "2022-05-15T13:41:03.112750Z",
     "iopub.status.idle": "2022-05-15T13:41:03.374570Z",
     "shell.execute_reply": "2022-05-15T13:41:03.373543Z"
    },
    "papermill": {
     "duration": 0.29743,
     "end_time": "2022-05-15T13:41:03.377544",
     "exception": false,
     "start_time": "2022-05-15T13:41:03.080114",
     "status": "completed"
    },
    "tags": []
   },
   "outputs": [
    {
     "name": "stdout",
     "output_type": "stream",
     "text": [
      "Prediction 2; Actual 2.0\n",
      "Prediction 7; Actual 7.0\n",
      "Prediction 2; Actual 2.0\n",
      "Prediction 7; Actual 7.0\n",
      "Prediction 5; Actual 5.0\n",
      "Prediction 1; Actual 1.0\n",
      "Prediction 6; Actual 6.0\n",
      "Prediction 0; Actual 0.0\n",
      "Prediction 7; Actual 7.0\n",
      "Prediction 6; Actual 6.0\n"
     ]
    },
    {
     "data": {
      "image/png": "[encoded data removed]",
      "text/plain": [
       "<Figure size 432x288 with 1 Axes>"
      ]
     },
     "metadata": {
      "needs_background": "light"
     },
     "output_type": "display_data"
    }
   ],
   "source": [
    "import matplotlib.pyplot as plt\n",
    "\n",
    "predictions = np.argmax(A3, axis=0)\n",
    "\n",
    "for i in np.random.randint(0, 42000, 10):\n",
    "    print(f\"Prediction {predictions[i]}; Actual {Y[i]}\")\n",
    "    plt.imshow(X[:, i].reshape((28, 28, 1)))"
   ]
  },
  {
   "cell_type": "code",
   "execution_count": 16,
   "id": "cbd4590b",
   "metadata": {
    "execution": {
     "iopub.execute_input": "2022-05-15T13:41:03.447501Z",
     "iopub.status.busy": "2022-05-15T13:41:03.447078Z",
     "iopub.status.idle": "2022-05-15T13:41:03.452889Z",
     "shell.execute_reply": "2022-05-15T13:41:03.452331Z"
    },
    "papermill": {
     "duration": 0.042021,
     "end_time": "2022-05-15T13:41:03.454851",
     "exception": false,
     "start_time": "2022-05-15T13:41:03.412830",
     "status": "completed"
    },
    "tags": []
   },
   "outputs": [],
   "source": [
    "def make_prediction(A0, W1, b1, W2, b2, W3, b3):\n",
    "    # Initial to First\n",
    "    Z1 = np.dot(W1, A0) + b1\n",
    "    A1 = sigmoid(Z1)\n",
    "    \n",
    "    # First to Second\n",
    "    Z2 = np.dot(W2, A1) + b2\n",
    "    A2 = sigmoid(Z2)\n",
    "    \n",
    "    # Second to Final\n",
    "    Z3 = np.dot(W3, A2) + b3\n",
    "    A3 = sigmoid(Z3)\n",
    "    \n",
    "    return A3"
   ]
  },
  {
   "cell_type": "code",
   "execution_count": 17,
   "id": "ce3b2d63",
   "metadata": {
    "execution": {
     "iopub.execute_input": "2022-05-15T13:41:03.522767Z",
     "iopub.status.busy": "2022-05-15T13:41:03.522353Z",
     "iopub.status.idle": "2022-05-15T13:41:05.736311Z",
     "shell.execute_reply": "2022-05-15T13:41:05.735342Z"
    },
    "papermill": {
     "duration": 2.250756,
     "end_time": "2022-05-15T13:41:05.738619",
     "exception": false,
     "start_time": "2022-05-15T13:41:03.487863",
     "status": "completed"
    },
    "tags": []
   },
   "outputs": [
    {
     "data": {
      "text/html": [
       "<div>\n",
       "<style scoped>\n",
       "    .dataframe tbody tr th:only-of-type {\n",
       "        vertical-align: middle;\n",
       "    }\n",
       "\n",
       "    .dataframe tbody tr th {\n",
       "        vertical-align: top;\n",
       "    }\n",
       "\n",
       "    .dataframe thead th {\n",
       "        text-align: right;\n",
       "    }\n",
       "</style>\n",
       "<table border=\"1\" class=\"dataframe\">\n",
       "  <thead>\n",
       "    <tr style=\"text-align: right;\">\n",
       "      <th></th>\n",
       "      <th>pixel0</th>\n",
       "      <th>pixel1</th>\n",
       "      <th>pixel2</th>\n",
       "      <th>pixel3</th>\n",
       "      <th>pixel4</th>\n",
       "      <th>pixel5</th>\n",
       "      <th>pixel6</th>\n",
       "      <th>pixel7</th>\n",
       "      <th>pixel8</th>\n",
       "      <th>pixel9</th>\n",
       "      <th>...</th>\n",
       "      <th>pixel774</th>\n",
       "      <th>pixel775</th>\n",
       "      <th>pixel776</th>\n",
       "      <th>pixel777</th>\n",
       "      <th>pixel778</th>\n",
       "      <th>pixel779</th>\n",
       "      <th>pixel780</th>\n",
       "      <th>pixel781</th>\n",
       "      <th>pixel782</th>\n",
       "      <th>pixel783</th>\n",
       "    </tr>\n",
       "  </thead>\n",
       "  <tbody>\n",
       "    <tr>\n",
       "      <th>0</th>\n",
       "      <td>0</td>\n",
       "      <td>0</td>\n",
       "      <td>0</td>\n",
       "      <td>0</td>\n",
       "      <td>0</td>\n",
       "      <td>0</td>\n",
       "      <td>0</td>\n",
       "      <td>0</td>\n",
       "      <td>0</td>\n",
       "      <td>0</td>\n",
       "      <td>...</td>\n",
       "      <td>0</td>\n",
       "      <td>0</td>\n",
       "      <td>0</td>\n",
       "      <td>0</td>\n",
       "      <td>0</td>\n",
       "      <td>0</td>\n",
       "      <td>0</td>\n",
       "      <td>0</td>\n",
       "      <td>0</td>\n",
       "      <td>0</td>\n",
       "    </tr>\n",
       "    <tr>\n",
       "      <th>1</th>\n",
       "      <td>0</td>\n",
       "      <td>0</td>\n",
       "      <td>0</td>\n",
       "      <td>0</td>\n",
       "      <td>0</td>\n",
       "      <td>0</td>\n",
       "      <td>0</td>\n",
       "      <td>0</td>\n",
       "      <td>0</td>\n",
       "      <td>0</td>\n",
       "      <td>...</td>\n",
       "      <td>0</td>\n",
       "      <td>0</td>\n",
       "      <td>0</td>\n",
       "      <td>0</td>\n",
       "      <td>0</td>\n",
       "      <td>0</td>\n",
       "      <td>0</td>\n",
       "      <td>0</td>\n",
       "      <td>0</td>\n",
       "      <td>0</td>\n",
       "    </tr>\n",
       "    <tr>\n",
       "      <th>2</th>\n",
       "      <td>0</td>\n",
       "      <td>0</td>\n",
       "      <td>0</td>\n",
       "      <td>0</td>\n",
       "      <td>0</td>\n",
       "      <td>0</td>\n",
       "      <td>0</td>\n",
       "      <td>0</td>\n",
       "      <td>0</td>\n",
       "      <td>0</td>\n",
       "      <td>...</td>\n",
       "      <td>0</td>\n",
       "      <td>0</td>\n",
       "      <td>0</td>\n",
       "      <td>0</td>\n",
       "      <td>0</td>\n",
       "      <td>0</td>\n",
       "      <td>0</td>\n",
       "      <td>0</td>\n",
       "      <td>0</td>\n",
       "      <td>0</td>\n",
       "    </tr>\n",
       "    <tr>\n",
       "      <th>3</th>\n",
       "      <td>0</td>\n",
       "      <td>0</td>\n",
       "      <td>0</td>\n",
       "      <td>0</td>\n",
       "      <td>0</td>\n",
       "      <td>0</td>\n",
       "      <td>0</td>\n",
       "      <td>0</td>\n",
       "      <td>0</td>\n",
       "      <td>0</td>\n",
       "      <td>...</td>\n",
       "      <td>0</td>\n",
       "      <td>0</td>\n",
       "      <td>0</td>\n",
       "      <td>0</td>\n",
       "      <td>0</td>\n",
       "      <td>0</td>\n",
       "      <td>0</td>\n",
       "      <td>0</td>\n",
       "      <td>0</td>\n",
       "      <td>0</td>\n",
       "    </tr>\n",
       "    <tr>\n",
       "      <th>4</th>\n",
       "      <td>0</td>\n",
       "      <td>0</td>\n",
       "      <td>0</td>\n",
       "      <td>0</td>\n",
       "      <td>0</td>\n",
       "      <td>0</td>\n",
       "      <td>0</td>\n",
       "      <td>0</td>\n",
       "      <td>0</td>\n",
       "      <td>0</td>\n",
       "      <td>...</td>\n",
       "      <td>0</td>\n",
       "      <td>0</td>\n",
       "      <td>0</td>\n",
       "      <td>0</td>\n",
       "      <td>0</td>\n",
       "      <td>0</td>\n",
       "      <td>0</td>\n",
       "      <td>0</td>\n",
       "      <td>0</td>\n",
       "      <td>0</td>\n",
       "    </tr>\n",
       "  </tbody>\n",
       "</table>\n",
       "<p>5 rows × 784 columns</p>\n",
       "</div>"
      ],
      "text/plain": [
       "   pixel0  pixel1  pixel2  pixel3  pixel4  pixel5  pixel6  pixel7  pixel8  \\\n",
       "0       0       0       0       0       0       0       0       0       0   \n",
       "1       0       0       0       0       0       0       0       0       0   \n",
       "2       0       0       0       0       0       0       0       0       0   \n",
       "3       0       0       0       0       0       0       0       0       0   \n",
       "4       0       0       0       0       0       0       0       0       0   \n",
       "\n",
       "   pixel9  ...  pixel774  pixel775  pixel776  pixel777  pixel778  pixel779  \\\n",
       "0       0  ...         0         0         0         0         0         0   \n",
       "1       0  ...         0         0         0         0         0         0   \n",
       "2       0  ...         0         0         0         0         0         0   \n",
       "3       0  ...         0         0         0         0         0         0   \n",
       "4       0  ...         0         0         0         0         0         0   \n",
       "\n",
       "   pixel780  pixel781  pixel782  pixel783  \n",
       "0         0         0         0         0  \n",
       "1         0         0         0         0  \n",
       "2         0         0         0         0  \n",
       "3         0         0         0         0  \n",
       "4         0         0         0         0  \n",
       "\n",
       "[5 rows x 784 columns]"
      ]
     },
     "execution_count": 17,
     "metadata": {},
     "output_type": "execute_result"
    }
   ],
   "source": [
    "test = pd.read_csv('dataset/test.csv')\n",
    "test.head()"
   ]
  },
  {
   "cell_type": "code",
   "execution_count": 18,
   "id": "c8905840",
   "metadata": {
    "execution": {
     "iopub.execute_input": "2022-05-15T13:41:05.809034Z",
     "iopub.status.busy": "2022-05-15T13:41:05.808761Z",
     "iopub.status.idle": "2022-05-15T13:41:05.880206Z",
     "shell.execute_reply": "2022-05-15T13:41:05.879336Z"
    },
    "papermill": {
     "duration": 0.109747,
     "end_time": "2022-05-15T13:41:05.882575",
     "exception": false,
     "start_time": "2022-05-15T13:41:05.772828",
     "status": "completed"
    },
    "tags": []
   },
   "outputs": [
    {
     "data": {
      "text/plain": [
       "(784, 28000)"
      ]
     },
     "execution_count": 18,
     "metadata": {},
     "output_type": "execute_result"
    }
   ],
   "source": [
    "test = np.array(test).T\n",
    "test.shape"
   ]
  },
  {
   "cell_type": "code",
   "execution_count": 19,
   "id": "f47ab10f",
   "metadata": {
    "execution": {
     "iopub.execute_input": "2022-05-15T13:41:05.954064Z",
     "iopub.status.busy": "2022-05-15T13:41:05.953777Z",
     "iopub.status.idle": "2022-05-15T13:41:07.814966Z",
     "shell.execute_reply": "2022-05-15T13:41:07.814041Z"
    },
    "papermill": {
     "duration": 1.899322,
     "end_time": "2022-05-15T13:41:07.817050",
     "exception": false,
     "start_time": "2022-05-15T13:41:05.917728",
     "status": "completed"
    },
    "tags": []
   },
   "outputs": [
    {
     "name": "stderr",
     "output_type": "stream",
     "text": [
      "C:\\Users\\bharg\\AppData\\Local\\Temp\\ipykernel_20596\\4177611724.py:2: RuntimeWarning: overflow encountered in exp\n",
      "  return 1 / (1 + np.exp(-Z))\n"
     ]
    },
    {
     "data": {
      "text/plain": [
       "(10, 28000)"
      ]
     },
     "execution_count": 19,
     "metadata": {},
     "output_type": "execute_result"
    }
   ],
   "source": [
    "# TESTING\n",
    "result = make_prediction(test, W1, b1, W2, b2, W3, b3)\n",
    "result.shape"
   ]
  },
  {
   "cell_type": "code",
   "execution_count": 20,
   "id": "29940fb6",
   "metadata": {
    "execution": {
     "iopub.execute_input": "2022-05-15T13:41:07.890502Z",
     "iopub.status.busy": "2022-05-15T13:41:07.890191Z",
     "iopub.status.idle": "2022-05-15T13:41:07.897166Z",
     "shell.execute_reply": "2022-05-15T13:41:07.896564Z"
    },
    "papermill": {
     "duration": 0.046536,
     "end_time": "2022-05-15T13:41:07.899309",
     "exception": false,
     "start_time": "2022-05-15T13:41:07.852773",
     "status": "completed"
    },
    "tags": []
   },
   "outputs": [
    {
     "data": {
      "text/plain": [
       "(28000,)"
      ]
     },
     "execution_count": 20,
     "metadata": {},
     "output_type": "execute_result"
    }
   ],
   "source": [
    "guesses = np.argmax(result, axis=0)\n",
    "guesses.shape"
   ]
  }
 ],
 "metadata": {
  "interpreter": {
   "hash": "369f2c481f4da34e4445cda3fffd2e751bd1c4d706f27375911949ba6bb62e1c"
  },
  "kernelspec": {
   "display_name": "Python 3.10.2 64-bit",
   "language": "python",
   "name": "python3"
  },
  "language_info": {
   "codemirror_mode": {
    "name": "ipython",
    "version": 3
   },
   "file_extension": ".py",
   "mimetype": "text/x-python",
   "name": "python",
   "nbconvert_exporter": "python",
   "pygments_lexer": "ipython3",
   "version": "3.10.2"
  },
  "papermill": {
   "default_parameters": {},
   "duration": 90.57201,
   "end_time": "2022-05-15T13:41:08.903736",
   "environment_variables": {},
   "exception": null,
   "input_path": "__notebook__.ipynb",
   "output_path": "__notebook__.ipynb",
   "parameters": {},
   "start_time": "2022-05-15T13:39:38.331726",
   "version": "2.3.4"
  }
 },
 "nbformat": 4,
 "nbformat_minor": 5
}
